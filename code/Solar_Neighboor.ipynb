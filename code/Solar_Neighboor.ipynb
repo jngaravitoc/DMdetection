{
 "cells": [
  {
   "cell_type": "code",
   "execution_count": 31,
   "metadata": {
    "collapsed": false
   },
   "outputs": [
    {
     "name": "stdout",
     "output_type": "stream",
     "text": [
      "Populating the interactive namespace from numpy and matplotlib\n"
     ]
    }
   ],
   "source": [
    "%pylab inline\n",
    "from astropy import units as u\n",
    "from astropy.coordinates import SkyCoord\n",
    "from astropy import constants as const"
   ]
  },
  {
   "cell_type": "code",
   "execution_count": 32,
   "metadata": {
    "collapsed": true
   },
   "outputs": [],
   "source": [
    "# LMC coordinates\n",
    "r_LMC = [-1, -41, -28]\n",
    "v_LMC = [-57, -226, 221]\n",
    "# from https://ui.adsabs.harvard.edu/#abs/2013ApJ...764..161K/abstract\n",
    "ra_LMC = 78.76\n",
    "dec_LMC = -69.19\n",
    "\n"
   ]
  },
  {
   "cell_type": "code",
   "execution_count": 33,
   "metadata": {
    "collapsed": false
   },
   "outputs": [],
   "source": [
    "c = SkyCoord(ra=ra_LMC*u.degree, dec=dec_LMC*u.degree,distance=47 * u.kpc)"
   ]
  },
  {
   "cell_type": "code",
   "execution_count": 34,
   "metadata": {
    "collapsed": false
   },
   "outputs": [
    {
     "data": {
      "text/plain": [
       "<SkyCoord (Galactocentric: galcen_distance=8.3 kpc, galcen_ra=266d24m18.36s, galcen_dec=-28d56m10.23s, z_sun=27.0 pc, roll=0.0 deg): (x, y, z) in kpc\n",
       "    (-1.6113905, -38.49478937, -26.09606035)>"
      ]
     },
     "execution_count": 34,
     "metadata": {},
     "output_type": "execute_result"
    }
   ],
   "source": [
    "c.galactocentric"
   ]
  },
  {
   "cell_type": "code",
   "execution_count": 35,
   "metadata": {
    "collapsed": true
   },
   "outputs": [],
   "source": [
    "c_sun = SkyCoord(ra=0.0*u.degree, dec=0.0*u.degree,distance=0.0 * u.kpc)"
   ]
  },
  {
   "cell_type": "code",
   "execution_count": 36,
   "metadata": {
    "collapsed": false
   },
   "outputs": [
    {
     "data": {
      "text/plain": [
       "<SkyCoord (Galactocentric: galcen_distance=8.3 kpc, galcen_ra=266d24m18.36s, galcen_dec=-28d56m10.23s, z_sun=27.0 pc, roll=0.0 deg): (x, y, z) in kpc\n",
       "    (-8.29995608, 0.0, 0.027)>"
      ]
     },
     "execution_count": 36,
     "metadata": {},
     "output_type": "execute_result"
    }
   ],
   "source": [
    "c_sun.galactocentric"
   ]
  },
  {
   "cell_type": "code",
   "execution_count": 52,
   "metadata": {
    "collapsed": true
   },
   "outputs": [],
   "source": [
    "r_sun = [-8.299, 0.0, 0.027]\n",
    "v_sun = [0.0, 220.0, 0.0] # Kuhlen e.a 2012 page 8"
   ]
  },
  {
   "cell_type": "code",
   "execution_count": 53,
   "metadata": {
    "collapsed": false
   },
   "outputs": [
    {
     "data": {
      "text/plain": [
       "<matplotlib.text.Text at 0x7f964c997c90>"
      ]
     },
     "execution_count": 53,
     "metadata": {},
     "output_type": "execute_result"
    },
    {
     "data": {
      "image/png": "[encoded data removed]",
      "text/plain": [
       "<matplotlib.figure.Figure at 0x7f964d34aa50>"
      ]
     },
     "metadata": {},
     "output_type": "display_data"
    }
   ],
   "source": [
    "figure(figsize=(21, 6))\n",
    "subplot(1, 3, 1)\n",
    "scatter((-1.0, -8.29), (-41.0, 0.0), c=['k', 'r'], s=70, alpha=0.6)\n",
    "xlim(-50, 50)\n",
    "ylim(-50, 50)\n",
    "axis('equal')\n",
    "xlabel('$x$', fontsize=25)\n",
    "ylabel('$y$', fontsize=25)\n",
    "subplot(1, 3, 2)\n",
    "scatter((-1.0, -28), (-41.0, 0.027), c=['k', 'r'], s=70, alpha=0.6)\n",
    "xlabel('$x$', fontsize=25)\n",
    "ylabel('$z$', fontsize=25)\n",
    "xlim(-50, 50)\n",
    "ylim(-50, 50)\n",
    "axis('equal')\n",
    "\n",
    "subplot(1, 3, 3)\n",
    "scatter((-8.29, -28), (0.0, 0.0027), c=['k', 'r'], s=70, alpha=0.6)\n",
    "xlim(-50, 50)\n",
    "ylim(-50, 50)\n",
    "axis('equal')\n",
    "xlabel('$y$', fontsize=25)\n",
    "ylabel('$z$', fontsize=25)"
   ]
  },
  {
   "cell_type": "code",
   "execution_count": null,
   "metadata": {
    "collapsed": true
   },
   "outputs": [],
   "source": []
  }
 ],
 "metadata": {
  "kernelspec": {
   "display_name": "Python 2",
   "language": "python",
   "name": "python2"
  },
  "language_info": {
   "codemirror_mode": {
    "name": "ipython",
    "version": 2
   },
   "file_extension": ".py",
   "mimetype": "text/x-python",
   "name": "python",
   "nbconvert_exporter": "python",
   "pygments_lexer": "ipython2",
   "version": "2.7.6"
  }
 },
 "nbformat": 4,
 "nbformat_minor": 0
}
